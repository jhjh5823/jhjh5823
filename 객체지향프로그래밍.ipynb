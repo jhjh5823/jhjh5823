{
  "nbformat": 4,
  "nbformat_minor": 0,
  "metadata": {
    "colab": {
      "name": "객체지향프로그래밍.ipynb",
      "provenance": [],
      "collapsed_sections": [],
      "toc_visible": true,
      "authorship_tag": "ABX9TyOTIOJ5Fy6lddA77eBzjlu6",
      "include_colab_link": true
    },
    "kernelspec": {
      "name": "python3",
      "display_name": "Python 3"
    },
    "language_info": {
      "name": "python"
    }
  },
  "cells": [
    {
      "cell_type": "markdown",
      "metadata": {
        "id": "view-in-github",
        "colab_type": "text"
      },
      "source": [
        "<a href=\"https://colab.research.google.com/github/jhjh5823/jhjh5823/blob/main/%EA%B0%9D%EC%B2%B4%EC%A7%80%ED%96%A5%ED%94%84%EB%A1%9C%EA%B7%B8%EB%9E%98%EB%B0%8D.ipynb\" target=\"_parent\"><img src=\"https://colab.research.google.com/assets/colab-badge.svg\" alt=\"Open In Colab\"/></a>"
      ]
    },
    {
      "cell_type": "markdown",
      "source": [
        "#클래스와 객체"
      ],
      "metadata": {
        "id": "SgK33_JgXf1x"
      }
    },
    {
      "cell_type": "code",
      "execution_count": null,
      "metadata": {
        "colab": {
          "base_uri": "https://localhost:8080/"
        },
        "id": "MzLLYY2KXXmx",
        "outputId": "978090bc-91e7-44d8-a980-84ab01608b4c"
      },
      "outputs": [
        {
          "output_type": "stream",
          "name": "stdout",
          "text": [
            "plus= 30\n",
            "minus= -10\n",
            "plus=  30\n",
            "minus = -10\n"
          ]
        }
      ],
      "source": [
        "# (1)함수 정의\n",
        "def calc_func(a, b) : #외부 함수\n",
        "  # 변수 선언 : 자료 저장\n",
        "  x = a\n",
        "  y = b\n",
        "\n",
        "  def plus() : # 내부함수\n",
        "    p = x+y\n",
        "    return p\n",
        "\n",
        "  def minus() : \n",
        "    m = x - y\n",
        "    return m\n",
        "  return plus, minus\n",
        "\n",
        "# (2) 함수 호출\n",
        "p, m = calc_func(10, 20)\n",
        "print('plus=', p())\n",
        "print('minus=', m())\n",
        "\n",
        "# (3) 클래스 정의\n",
        "class calc_class : \n",
        "  #클래스 변수 : 자료저장\n",
        "  x = y = 0\n",
        "\n",
        "  #생성자 : 객체 생성 + 멤버변수 초기화\n",
        "  def __init__(self, a, b):\n",
        "    self.x = a # 10 \n",
        "    self.y = b # 20\n",
        "\n",
        "  #클래스 함수\n",
        "  def plus(self):\n",
        "    p = self.x + self.y #변수 연산\n",
        "    return p\n",
        "\n",
        "  #클래스 함수\n",
        "  def minus(self):\n",
        "    m = self.x - self.y # 변수 연산\n",
        "    return m\n",
        "\n",
        "#(4) 객체 생성\n",
        "obj = calc_class(10, 20)\n",
        "\n",
        "#(5) 멤버 호출\n",
        "print('plus= ', obj.plus())\n",
        "print('minus =', obj.minus())"
      ]
    },
    {
      "cell_type": "code",
      "source": [
        "class Car: \n",
        "  # (1) 멤버변수\n",
        "  cc = 0 \n",
        "  door = 0 \n",
        "  carType = None\n",
        "\n",
        "  # (2) 생성자\n",
        "  def __init__(self, cc, door, carType):\n",
        "    self.cc = cc\n",
        "    self.door = door\n",
        "    self.carType = carType # 승용차, SUV\n",
        "    \n",
        "  # (3) 메서드\n",
        "  def display(self):\n",
        "    print(\"자동차는 %d cc이고, 문짝은 %d개, 타입은 %s\" %(self.cc, self.door, self.carType))\n",
        "  \n",
        "# (4) 객체생성\n",
        "car1 = Car(2000, 4, \"승용차\")\n",
        "car2 = Car(3000, 5, \"SUV\")\n",
        "\n",
        "# (5) 멤버 호출 : object.member()\n",
        "car1.display()\n",
        "car2.display()\n"
      ],
      "metadata": {
        "colab": {
          "base_uri": "https://localhost:8080/"
        },
        "id": "NDozLnLCcH4z",
        "outputId": "c2fab6bc-39cc-4fd0-ed4c-e5cad1018e94"
      },
      "execution_count": null,
      "outputs": [
        {
          "output_type": "stream",
          "name": "stdout",
          "text": [
            "자동차는 2000 cc이고, 문짝은 4개, 타입은 승용차\n",
            "자동차는 3000 cc이고, 문짝은 5개, 타입은 SUV\n"
          ]
        }
      ]
    },
    {
      "cell_type": "markdown",
      "source": [
        "##생성자"
      ],
      "metadata": {
        "id": "lgGZNlHiexUU"
      }
    },
    {
      "cell_type": "code",
      "source": [
        "# (1) 생성자 이용 멤버변수 초기화\n",
        "class multiply :\n",
        "  # 멤버 변수 \n",
        "  x = y = 0\n",
        "  \n",
        "  #생성자 : 초기화 \n",
        "  def __init__(self, x, y): #객체만 생성\n",
        "    self.x = x\n",
        "    self.y = y\n",
        "  \n",
        "  #메서드\n",
        "  def mul(self):\n",
        "    return self.x * self.y\n",
        "\n",
        "obj = multiply(10, 20) #생성자 \n",
        "print('곱셈 = ', obj.mul)\n",
        "\n",
        "# (2) 메서드 이용 멤버변수 초기화\n",
        "class multiply2 :\n",
        "  # 멤버 변수\n",
        "  x = y = 0\n",
        "\n",
        "# 생성자 없음 : 기본 생성자 제공\n",
        "  def __init__(self):\n",
        "    pass\n",
        "\n",
        "# 메서드 : 멤버변수 초기화 \n",
        "  def data(self, x, y):\n",
        "    self.x = x\n",
        "    self.y = y\n",
        "\n",
        "# 메서드 : 곱셈\n",
        "  def mul(self):\n",
        "    return self.x * self.y\n",
        "\n",
        "obj = multiply2() #기본 생성자\n",
        "obj.data(10,20) #동적 멤버변수 생성\n",
        "print('곱셈 =', obj.mul())\n",
        "\n"
      ],
      "metadata": {
        "colab": {
          "base_uri": "https://localhost:8080/"
        },
        "id": "2DVcpYsYevzU",
        "outputId": "d2328d1e-2429-4945-c70b-0ddf288c5cc9"
      },
      "execution_count": null,
      "outputs": [
        {
          "output_type": "stream",
          "name": "stdout",
          "text": [
            "곱셈 =  <bound method multiply.mul of <__main__.multiply object at 0x7f70f077f7d0>>\n",
            "곱셈 = 200\n"
          ]
        }
      ]
    },
    {
      "cell_type": "markdown",
      "source": [
        "##self"
      ],
      "metadata": {
        "id": "CTHF-6gey9dP"
      }
    },
    {
      "cell_type": "code",
      "source": [
        "class multiply3 :\n",
        "  # 멤버변수 없음\n",
        "  # 생성자 없음\n",
        "\n",
        "  # 동적 멤버변수 생성/초기화\n",
        "  def data(self, x, y) :\n",
        "    self.x = x\n",
        "    self.y = y\n",
        "  \n",
        "  #곱셈 연산\n",
        "  def mul(self) :\n",
        "    result = self.x * self.y\n",
        "    self.display(result) #메서드 호출\n",
        "\n",
        "  #결과 출력\n",
        "  def display(self, result):\n",
        "    print(\"곱셈 = %d\" %(result))\n",
        "\n",
        "obj = multiply3() #기본 생성자\n",
        "obj.data(10,20)\n",
        "obj.mul()"
      ],
      "metadata": {
        "colab": {
          "base_uri": "https://localhost:8080/"
        },
        "id": "imEnjN2My8RQ",
        "outputId": "fcc5e83b-3c8e-4681-e424-f4ce14ecd616"
      },
      "execution_count": null,
      "outputs": [
        {
          "output_type": "stream",
          "name": "stdout",
          "text": [
            "곱셈 = 200\n"
          ]
        }
      ]
    },
    {
      "cell_type": "markdown",
      "source": [
        "##클래스 멤버"
      ],
      "metadata": {
        "id": "Wm60gN2G2aRY"
      }
    },
    {
      "cell_type": "code",
      "source": [
        "class DatePro :\n",
        "  #(1) 멤버 변수\n",
        "  content = \"날짜 처리 클래스\"\n",
        "  \n",
        "  #(2) 생성자\n",
        "  def __init__(self, year, month, day):\n",
        "    self.year = year\n",
        "    self.month = month\n",
        "    self.day = day\n",
        "\n",
        "  #(3) 객체 메서드(instance method)\n",
        "  def display(self) :\n",
        "    print(\"%d-%d-%d\"%(self.year, self.month, self.day))\n",
        "\n",
        "  #(4) 클래스 메서드(class method)\n",
        "  @classmethod # 함수장식자\n",
        "  def date_string(cls, dateStr) : \n",
        "    year = dateStr[:4]\n",
        "    month = dateStr[4:6]\n",
        "    day = dateStr[6:]\n",
        "\n",
        "    print(f\"{year}년 {month}월 {day}일\")\n",
        "\n",
        "  \n",
        "#(5) 객체 멤버\n",
        "date = DatePro(1995, 8, 3) #생성자\n",
        "print(date.content) #날짜 처리 클래스\n",
        "print(date.year)\n",
        "date.display()\n",
        "\n",
        "#(6) 클래스 멤버\n",
        "print(DatePro.content) #날짜 처리 클래스\n",
        "#print(DatePro.year) #AttributeError\n",
        "DatePro.date_string('19950803')\n"
      ],
      "metadata": {
        "colab": {
          "base_uri": "https://localhost:8080/"
        },
        "id": "gIrMzhPB2bzX",
        "outputId": "f02a3ea1-10f7-4814-fb42-7a8bbaa967ff"
      },
      "execution_count": null,
      "outputs": [
        {
          "output_type": "stream",
          "name": "stdout",
          "text": [
            "날짜 처리 클래스\n",
            "1995\n",
            "1995-8-3\n",
            "날짜 처리 클래스\n",
            "1995년 08월 03일\n"
          ]
        }
      ]
    },
    {
      "cell_type": "markdown",
      "source": [
        "#객체지향 기법"
      ],
      "metadata": {
        "id": "kAkc39j16Hen"
      }
    },
    {
      "cell_type": "markdown",
      "source": [
        "##캡슐화"
      ],
      "metadata": {
        "id": "kzMjQFVS6J2u"
      }
    },
    {
      "cell_type": "code",
      "source": [
        "class Account:\n",
        "  #(1) 은닉 멤버변수\n",
        "  __balance = 0 #잔액\n",
        "  __accName = None #예금주\n",
        "  __accNo = None #계좌번호\n",
        "\n",
        "  #(2) 생성자 : 멤버변수 초기화\n",
        "  def __init__(self, bal, name, no):\n",
        "    self.__balance = bal #잔액 초기화\n",
        "    self.__accName = name #예금주\n",
        "    self.__accNo = no #계좌번호\n",
        "\n",
        "  #(3) 계좌번호정보 확인 : Getter\n",
        "  def getBalance(self):\n",
        "    return self.__balance, self.__accName, self.__accNo\n",
        "\n",
        "  #(4) 입금하기 : Setter\n",
        "  def deposit(self, money):\n",
        "    if money < 0:\n",
        "      print('금액확인')\n",
        "      return # 종료\n",
        "    self.__balance += money\n",
        "  \n",
        "  #(5) 출금하기 : Setter\n",
        "  def withdraw(self, money):\n",
        "    if self.__balance < money :\n",
        "      print('잔액 부족')\n",
        "      return # 종료(exit)\n",
        "    self.__balance -= money\n",
        "  \n",
        "#(6) object 생성\n",
        "acc = Account(1000, '홍길동', '125-152-4125-41') #생성자\n",
        "\n",
        "#(7) Getter 호출\n",
        "#acc.__balance #오류 (Error)\n",
        "bal = acc.getBalance()\n",
        "print('계좌정보 : ', bal)\n",
        "\n",
        "#(8) Setter 호출\n",
        "\n",
        "bal = acc.getBalance()\n",
        "print('계좌정보 : ', bal) #입금확인\n",
        "\n",
        "acc.withdraw(5000)\n",
        "print('계좌정보 :', bal)"
      ],
      "metadata": {
        "colab": {
          "base_uri": "https://localhost:8080/"
        },
        "id": "SllgQFtK6JUf",
        "outputId": "f9035c3d-fe1b-4d39-8c6c-c260bb420889"
      },
      "execution_count": null,
      "outputs": [
        {
          "output_type": "stream",
          "name": "stdout",
          "text": [
            "계좌정보 :  (1000, '홍길동', '125-152-4125-41')\n",
            "계좌정보 :  (1000, '홍길동', '125-152-4125-41')\n",
            "잔액 부족\n",
            "계좌정보 : (1000, '홍길동', '125-152-4125-41')\n"
          ]
        }
      ]
    },
    {
      "cell_type": "markdown",
      "source": [
        "##상속"
      ],
      "metadata": {
        "id": "956VkKw2B9DO"
      }
    },
    {
      "cell_type": "code",
      "source": [
        "# (1) 부모 클래스 \n",
        "class Super : \n",
        "  # 생성자 : 동적멤버 생성\n",
        "  def __init__(self, name, age):\n",
        "    self.name = name\n",
        "    self.age = age\n",
        "\n",
        "  # 메서드\n",
        "  def display(self):\n",
        "    print('name: %s, age : %d' %(self.name, self.age))\n",
        "    sup = Super('부모', 55)\n",
        "    sup.display() #부모 멤버 호출\n",
        "  \n",
        "  #(2) 자식 클래스\n",
        "class Sub(Super) : #클래스 상속\n",
        "  gender = None #자식 멤버\n",
        "\n",
        "  #(3) 생성자\n",
        "  def __init__(self, name, age, gender):\n",
        "    self.name = name\n",
        "    self.age = age\n",
        "    self.gender = gender\n",
        "  \n",
        "  #(4) 메서드 확장\n",
        "  def display(self):\n",
        "    print('name : %s, age : %d, gender :%s'\n",
        "      %(self.name, self.age, self.gender))\n",
        "\n",
        "sub = Sub('자식', 24, '여자')\n",
        "sub.display() #자식 멤버 호출"
      ],
      "metadata": {
        "colab": {
          "base_uri": "https://localhost:8080/"
        },
        "id": "ip6prwzLB7wW",
        "outputId": "7370c416-4123-4256-cfcf-7ab99c3eb8e6"
      },
      "execution_count": null,
      "outputs": [
        {
          "output_type": "stream",
          "name": "stdout",
          "text": [
            "name : 자식, age : 24, gender :여자\n"
          ]
        }
      ]
    },
    {
      "cell_type": "code",
      "source": [
        "# (1) 부모 클래스\n",
        "class Parent : \n",
        "  # 생성자 : 객체 + 초기화\n",
        "  def __init__(self, name, job):\n",
        "    self.name = name\n",
        "    self.job = job\n",
        "  \n",
        "  # 멤버 함수(method)\n",
        "  def display(self):\n",
        "    print('name : {}, job : {}'.format(self.name, self.job))\n",
        "  \n",
        "# 부모 클래스 객체 생성\n",
        "p = Parent('홍길동', '회사원')\n",
        "p.display()\n",
        "\n",
        "#(2) 자식 클래스\n",
        "class Children(Parent) : # Parent 클래스 상속\n",
        "  gender = None # 자식 클래스 멤버변수 추가\n",
        "\n",
        "  #(3) 자식 클래스 생성자 \n",
        "  def __init__(self, name, job, gender):\n",
        "    # 부모 클래스 생성자 호출\n",
        "    super().__init__(name, job) #name, job 초기화\n",
        "    self.gender = gender #자식 멤버변수 초기화\n",
        "\n",
        "    # 멤버 함수(method)\n",
        "  def display(self) : #함수 재정의\n",
        "    print('name : {}, job : {}, gender : {} '.format(self.name, self.job, self.gender))\n",
        "\n",
        "#자식 클래스 객체 생성\n",
        "chil = Children(\"이순신\", \"해군 장군\", \"남자\")\n",
        "chil.display()"
      ],
      "metadata": {
        "colab": {
          "base_uri": "https://localhost:8080/"
        },
        "id": "p5l_Uk6cGVk1",
        "outputId": "fd325157-a512-4c32-a63c-f6fb46060ee9"
      },
      "execution_count": null,
      "outputs": [
        {
          "output_type": "stream",
          "name": "stdout",
          "text": [
            "name : 홍길동, job : 회사원\n",
            "name : 이순신, job : 해군 장군, gender : 남자 \n"
          ]
        }
      ]
    },
    {
      "cell_type": "markdown",
      "source": [
        "## 메서드 재정의"
      ],
      "metadata": {
        "id": "OZksPh7rLsCs"
      }
    },
    {
      "cell_type": "code",
      "source": [
        "#(1) 부모클래스\n",
        "class Employee:\n",
        "  name = None\n",
        "  pay = 0 \n",
        "\n",
        "  def __init__(self, name):\n",
        "    self.name = name\n",
        "  \n",
        "  def pay_calc(self):\n",
        "    pass\n",
        "\n",
        "#(2) 자식클래스 : 정규직\n",
        "class Permanent(Employee):\n",
        "  def __init__(self, name):\n",
        "    super().__init__(name) #부모 생성자 호출\n",
        "\n",
        "  def pay_calc(self, base, bonus):\n",
        "    self.pay = base + bonus #급여 = 기본급 상여금\n",
        "    print('총 수령액 : ', format(self.pay, '3,d'),'원')\n",
        "\n",
        "#(3) 자식클래스 : 임시직\n",
        "class Temporary(Employee):\n",
        "  def __init__(self, name):\n",
        "    super().__init__(name) # 부모 생성자 호출\n",
        "\n",
        "  def pay_calc(self, tpay, time):\n",
        "    self.pay = tpay * time #급여= 작업시간 * 시급\n",
        "    print('총 수령액 : ', format(self.pay, '3,d'),'원')\n",
        "\n",
        "#(4) 객체 생성\n",
        "p = Permanent(\"이순신\")\n",
        "p.pay_calc(3000000, 200000)\n",
        "\n",
        "t= Temporary(\"홍길동\")\n",
        "t.pay_calc(15000, 80)"
      ],
      "metadata": {
        "colab": {
          "base_uri": "https://localhost:8080/"
        },
        "id": "oly6TYmfLu2N",
        "outputId": "55447773-e9a6-4a57-ef2c-c76d04fc88d3"
      },
      "execution_count": null,
      "outputs": [
        {
          "output_type": "stream",
          "name": "stdout",
          "text": [
            "총 수령액 :  3,200,000 원\n",
            "총 수령액 :  1,200,000 원\n"
          ]
        }
      ]
    },
    {
      "cell_type": "markdown",
      "source": [
        ""
      ],
      "metadata": {
        "id": "L5zt0QM4RAsj"
      }
    },
    {
      "cell_type": "code",
      "source": [
        "#(1) 부모 클래스\n",
        "class Flight:\n",
        "  # 부모 원형 함수\n",
        "  def fly(self):\n",
        "    print('날다, fly 원형 메서드')\n",
        "\n",
        "#(2) 자식 클래스 : 비행기\n",
        "class Airplane(Flight):\n",
        "  \n",
        "  #함수 재정의\n",
        "  def fly(self):\n",
        "    print('비행기가 날다.')\n",
        "\n",
        "#(2) 자식 클래스 : : 새\n",
        "class Bird(Flight) :\n",
        "\n",
        "  #함수 재정의 \n",
        "  def fly(self):\n",
        "    print('새가 날다.')\n",
        "\n",
        "#(2) 자식 클래스 : 종이 비행기\n",
        "class PaperAirplane(Flight) :\n",
        "\n",
        "  #함수 재정의\n",
        "  def fly(self):\n",
        "    print('종이 비행기가 날다.')\n",
        "\n",
        "#(3) 객체 생성\n",
        "# 부모 객체 = 자식 객체(자식1, 자식2)\n",
        "flight = Flight() #부모 클래스 객체\n",
        "air = Airplane() #자식 1 클래스 객체\n",
        "bird = Bird() #자식2 클래스 객체\n",
        "paper = PaperAirplane() #자식3 클래스 객체\n",
        "\n",
        "  #(4) 다형성\n",
        "flight.fly() # 날다, fly 원형 메서드\n",
        "\n",
        "flight = air \n",
        "flight.fly() #비행기가 날다.\n",
        "\n",
        "flight = bird\n",
        "flight.fly() #새가 날다.\n",
        "\n",
        "flight = paper \n",
        "flight.fly() # 종이 비행기가 날다"
      ],
      "metadata": {
        "colab": {
          "base_uri": "https://localhost:8080/"
        },
        "id": "XlWvchqXQ8yl",
        "outputId": "44baec4b-ecbb-4e2b-92e2-c24ad5e103b2"
      },
      "execution_count": null,
      "outputs": [
        {
          "output_type": "stream",
          "name": "stdout",
          "text": [
            "날다, fly 원형 메서드\n",
            "비행기가 날다.\n",
            "새가 날다.\n",
            "종이 비행기가 날다.\n"
          ]
        }
      ]
    },
    {
      "cell_type": "markdown",
      "source": [
        "#내장클래스"
      ],
      "metadata": {
        "id": "kZYllYIFWJxd"
      }
    },
    {
      "cell_type": "markdown",
      "source": [
        "## builtins 모듈 내장클래스\n"
      ],
      "metadata": {
        "id": "TtXuZh96WSiS"
      }
    },
    {
      "cell_type": "code",
      "source": [
        "#(1) 리스트 열거형 객체 이용\n",
        "lst = [1,3, 5]\n",
        "for i, c in enumerate(lst) :\n",
        "  print('색인 : ', i, end=', ')\n",
        "  print('내용 : ', c)\n",
        "\n",
        "#(2) 튜플 열거형 객체 이용\n",
        "dit = {'name' : '홍길동', 'job': '회사원', 'addr':'서울시'}\n",
        "for i, k in enumerate(dit) :\n",
        "  print('순서 :', i, end=', ')\n",
        "  print('키 :', k, end=', ')\n",
        "  print('값 :', dit[k])"
      ],
      "metadata": {
        "colab": {
          "base_uri": "https://localhost:8080/"
        },
        "id": "A8E-_0bWWGKL",
        "outputId": "ae5afdda-0c1d-4973-e365-59cbac3d05a7"
      },
      "execution_count": null,
      "outputs": [
        {
          "output_type": "stream",
          "name": "stdout",
          "text": [
            "색인 :  0, 내용 :  1\n",
            "색인 :  1, 내용 :  3\n",
            "색인 :  2, 내용 :  5\n",
            "순서 : 0, 키 : name, 값 : 홍길동\n",
            "순서 : 1, 키 : job, 값 : 회사원\n",
            "순서 : 2, 키 : addr, 값 : 서울시\n"
          ]
        }
      ]
    },
    {
      "cell_type": "markdown",
      "source": [
        "##import 모듈 내장클래스"
      ],
      "metadata": {
        "id": "SpJ_wenkdjkp"
      }
    },
    {
      "cell_type": "code",
      "source": [
        "#(1) 모듈 내장클래스 import\n",
        "import datetime #모듈 import\n",
        "from datetime import date, time\n",
        "\n",
        "#(2) date 클래스\n",
        "# help(date) #date 클래스 도움말\n",
        "\n",
        "today = date(2019, 10, 23) #date 객체 생성\n",
        "print(today) #date 객체 정보\n",
        "\n",
        "#date 객체 멤버변수 호출\n",
        "print(today.year) #2019\n",
        "print(today.month)\n",
        "print(today.day)\n",
        "\n",
        "#date 객체 메서드 호출\n",
        "w = today.weekday()\n",
        "print('요일 정보 :', w)\n",
        "\n",
        "#(3) time 클래스\n",
        "\n",
        "currTime = time(21, 4, 30) #time 객체 생성\n",
        "print(currTime) # time 객체 정보\n",
        "\n",
        "# time 객체 멤버변수 호출\n",
        "print(currTime.hour)\n",
        "print(currTime.minute)\n",
        "print(currTime.second)\n",
        "\n",
        "#time 객체 메서드 호출\n",
        "isoTime = currTime.isoformat() #HH:MM:SS\n",
        "print(isoTime)"
      ],
      "metadata": {
        "colab": {
          "base_uri": "https://localhost:8080/"
        },
        "id": "vqTXcJ6TdlnZ",
        "outputId": "472d474c-6f4a-403f-94aa-b208377118ec"
      },
      "execution_count": null,
      "outputs": [
        {
          "output_type": "stream",
          "name": "stdout",
          "text": [
            "2019-10-23\n",
            "2019\n",
            "10\n",
            "23\n",
            "요일 정보 : 2\n",
            "21:04:30\n",
            "21\n",
            "4\n",
            "30\n",
            "21:04:30\n"
          ]
        }
      ]
    },
    {
      "cell_type": "markdown",
      "source": [
        "#패키지와 모듈"
      ],
      "metadata": {
        "id": "jCgA3b5qiaJJ"
      }
    },
    {
      "cell_type": "code",
      "source": [
        "#(1) 평균과 제곱근 모듈 import\n",
        "from statistics import mean\n",
        "from math import sqrt\n",
        "\n",
        "#(2) 산술평균 함수\n",
        "def Avg(data):\n",
        "  avg = mean(data)\n",
        "  return Avg\n",
        "\n",
        "#(3) 분산/표준편자 함수 \n",
        "def var_sd(data): \n",
        "  avg = Avg(data)\n",
        "  diff = [(d - avg) ** 2 for d in data] #list 내포\n",
        "  var = sum(diff) / (len(data) - 1)\n",
        "  sd = sqrt(var)\n",
        "  return var, sd\n",
        "\n",
        "#프로그램 시작점\n",
        "if __name__ == \"__main__\" :\n",
        "  data = [1, 3, 5, 7]\n",
        "  print('평균 =', Avg(data))\n",
        "  var, sd = var_sd(data)\n",
        "  print('분산=', var)\n",
        "  print('표준편차=', sd)\n",
        "\n",
        "\n"
      ],
      "metadata": {
        "colab": {
          "base_uri": "https://localhost:8080/",
          "height": 418
        },
        "id": "ILIvrOukikHI",
        "outputId": "fc6afec3-754b-4c27-f999-943b4d415fad"
      },
      "execution_count": null,
      "outputs": [
        {
          "output_type": "stream",
          "name": "stdout",
          "text": [
            "평균 = <function Avg at 0x7f70f0636710>\n"
          ]
        },
        {
          "output_type": "error",
          "ename": "TypeError",
          "evalue": "ignored",
          "traceback": [
            "\u001b[0;31m---------------------------------------------------------------------------\u001b[0m",
            "\u001b[0;31mTypeError\u001b[0m                                 Traceback (most recent call last)",
            "\u001b[0;32m<ipython-input-42-1595e0d831d9>\u001b[0m in \u001b[0;36m<module>\u001b[0;34m()\u001b[0m\n\u001b[1;32m     20\u001b[0m   \u001b[0mdata\u001b[0m \u001b[0;34m=\u001b[0m \u001b[0;34m[\u001b[0m\u001b[0;36m1\u001b[0m\u001b[0;34m,\u001b[0m \u001b[0;36m3\u001b[0m\u001b[0;34m,\u001b[0m \u001b[0;36m5\u001b[0m\u001b[0;34m,\u001b[0m \u001b[0;36m7\u001b[0m\u001b[0;34m]\u001b[0m\u001b[0;34m\u001b[0m\u001b[0;34m\u001b[0m\u001b[0m\n\u001b[1;32m     21\u001b[0m   \u001b[0mprint\u001b[0m\u001b[0;34m(\u001b[0m\u001b[0;34m'평균 ='\u001b[0m\u001b[0;34m,\u001b[0m \u001b[0mAvg\u001b[0m\u001b[0;34m(\u001b[0m\u001b[0mdata\u001b[0m\u001b[0;34m)\u001b[0m\u001b[0;34m)\u001b[0m\u001b[0;34m\u001b[0m\u001b[0;34m\u001b[0m\u001b[0m\n\u001b[0;32m---> 22\u001b[0;31m   \u001b[0mvar\u001b[0m\u001b[0;34m,\u001b[0m \u001b[0msd\u001b[0m \u001b[0;34m=\u001b[0m \u001b[0mvar_sd\u001b[0m\u001b[0;34m(\u001b[0m\u001b[0mdata\u001b[0m\u001b[0;34m)\u001b[0m\u001b[0;34m\u001b[0m\u001b[0;34m\u001b[0m\u001b[0m\n\u001b[0m\u001b[1;32m     23\u001b[0m   \u001b[0mprint\u001b[0m\u001b[0;34m(\u001b[0m\u001b[0;34m'분산='\u001b[0m\u001b[0;34m,\u001b[0m \u001b[0mvar\u001b[0m\u001b[0;34m)\u001b[0m\u001b[0;34m\u001b[0m\u001b[0;34m\u001b[0m\u001b[0m\n\u001b[1;32m     24\u001b[0m   \u001b[0mprint\u001b[0m\u001b[0;34m(\u001b[0m\u001b[0;34m'표준편차='\u001b[0m\u001b[0;34m,\u001b[0m \u001b[0msd\u001b[0m\u001b[0;34m)\u001b[0m\u001b[0;34m\u001b[0m\u001b[0;34m\u001b[0m\u001b[0m\n",
            "\u001b[0;32m<ipython-input-42-1595e0d831d9>\u001b[0m in \u001b[0;36mvar_sd\u001b[0;34m(data)\u001b[0m\n\u001b[1;32m     11\u001b[0m \u001b[0;32mdef\u001b[0m \u001b[0mvar_sd\u001b[0m\u001b[0;34m(\u001b[0m\u001b[0mdata\u001b[0m\u001b[0;34m)\u001b[0m\u001b[0;34m:\u001b[0m\u001b[0;34m\u001b[0m\u001b[0;34m\u001b[0m\u001b[0m\n\u001b[1;32m     12\u001b[0m   \u001b[0mavg\u001b[0m \u001b[0;34m=\u001b[0m \u001b[0mAvg\u001b[0m\u001b[0;34m(\u001b[0m\u001b[0mdata\u001b[0m\u001b[0;34m)\u001b[0m\u001b[0;34m\u001b[0m\u001b[0;34m\u001b[0m\u001b[0m\n\u001b[0;32m---> 13\u001b[0;31m   \u001b[0mdiff\u001b[0m \u001b[0;34m=\u001b[0m \u001b[0;34m[\u001b[0m\u001b[0;34m(\u001b[0m\u001b[0md\u001b[0m \u001b[0;34m-\u001b[0m \u001b[0mavg\u001b[0m\u001b[0;34m)\u001b[0m \u001b[0;34m**\u001b[0m \u001b[0;36m2\u001b[0m \u001b[0;32mfor\u001b[0m \u001b[0md\u001b[0m \u001b[0;32min\u001b[0m \u001b[0mdata\u001b[0m\u001b[0;34m]\u001b[0m \u001b[0;31m#list 내포\u001b[0m\u001b[0;34m\u001b[0m\u001b[0;34m\u001b[0m\u001b[0m\n\u001b[0m\u001b[1;32m     14\u001b[0m   \u001b[0mvar\u001b[0m \u001b[0;34m=\u001b[0m \u001b[0msum\u001b[0m\u001b[0;34m(\u001b[0m\u001b[0mdiff\u001b[0m\u001b[0;34m)\u001b[0m \u001b[0;34m/\u001b[0m \u001b[0;34m(\u001b[0m\u001b[0mlen\u001b[0m\u001b[0;34m(\u001b[0m\u001b[0mdata\u001b[0m\u001b[0;34m)\u001b[0m \u001b[0;34m-\u001b[0m \u001b[0;36m1\u001b[0m\u001b[0;34m)\u001b[0m\u001b[0;34m\u001b[0m\u001b[0;34m\u001b[0m\u001b[0m\n\u001b[1;32m     15\u001b[0m   \u001b[0msd\u001b[0m \u001b[0;34m=\u001b[0m \u001b[0msqrt\u001b[0m\u001b[0;34m(\u001b[0m\u001b[0mvar\u001b[0m\u001b[0;34m)\u001b[0m\u001b[0;34m\u001b[0m\u001b[0;34m\u001b[0m\u001b[0m\n",
            "\u001b[0;32m<ipython-input-42-1595e0d831d9>\u001b[0m in \u001b[0;36m<listcomp>\u001b[0;34m(.0)\u001b[0m\n\u001b[1;32m     11\u001b[0m \u001b[0;32mdef\u001b[0m \u001b[0mvar_sd\u001b[0m\u001b[0;34m(\u001b[0m\u001b[0mdata\u001b[0m\u001b[0;34m)\u001b[0m\u001b[0;34m:\u001b[0m\u001b[0;34m\u001b[0m\u001b[0;34m\u001b[0m\u001b[0m\n\u001b[1;32m     12\u001b[0m   \u001b[0mavg\u001b[0m \u001b[0;34m=\u001b[0m \u001b[0mAvg\u001b[0m\u001b[0;34m(\u001b[0m\u001b[0mdata\u001b[0m\u001b[0;34m)\u001b[0m\u001b[0;34m\u001b[0m\u001b[0;34m\u001b[0m\u001b[0m\n\u001b[0;32m---> 13\u001b[0;31m   \u001b[0mdiff\u001b[0m \u001b[0;34m=\u001b[0m \u001b[0;34m[\u001b[0m\u001b[0;34m(\u001b[0m\u001b[0md\u001b[0m \u001b[0;34m-\u001b[0m \u001b[0mavg\u001b[0m\u001b[0;34m)\u001b[0m \u001b[0;34m**\u001b[0m \u001b[0;36m2\u001b[0m \u001b[0;32mfor\u001b[0m \u001b[0md\u001b[0m \u001b[0;32min\u001b[0m \u001b[0mdata\u001b[0m\u001b[0;34m]\u001b[0m \u001b[0;31m#list 내포\u001b[0m\u001b[0;34m\u001b[0m\u001b[0;34m\u001b[0m\u001b[0m\n\u001b[0m\u001b[1;32m     14\u001b[0m   \u001b[0mvar\u001b[0m \u001b[0;34m=\u001b[0m \u001b[0msum\u001b[0m\u001b[0;34m(\u001b[0m\u001b[0mdiff\u001b[0m\u001b[0;34m)\u001b[0m \u001b[0;34m/\u001b[0m \u001b[0;34m(\u001b[0m\u001b[0mlen\u001b[0m\u001b[0;34m(\u001b[0m\u001b[0mdata\u001b[0m\u001b[0;34m)\u001b[0m \u001b[0;34m-\u001b[0m \u001b[0;36m1\u001b[0m\u001b[0;34m)\u001b[0m\u001b[0;34m\u001b[0m\u001b[0;34m\u001b[0m\u001b[0m\n\u001b[1;32m     15\u001b[0m   \u001b[0msd\u001b[0m \u001b[0;34m=\u001b[0m \u001b[0msqrt\u001b[0m\u001b[0;34m(\u001b[0m\u001b[0mvar\u001b[0m\u001b[0;34m)\u001b[0m\u001b[0;34m\u001b[0m\u001b[0;34m\u001b[0m\u001b[0m\n",
            "\u001b[0;31mTypeError\u001b[0m: unsupported operand type(s) for -: 'int' and 'function'"
          ]
        }
      ]
    }
  ]
}